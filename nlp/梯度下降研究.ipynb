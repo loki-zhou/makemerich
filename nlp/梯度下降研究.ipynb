{
 "cells": [
  {
   "cell_type": "code",
   "execution_count": 5,
   "id": "e16f50f7-66af-418c-8c05-55ee292766d7",
   "metadata": {},
   "outputs": [
    {
     "name": "stdout",
     "output_type": "stream",
     "text": [
      "Iteration 0, Error: 0.5950141174\n"
     ]
    },
    {
     "ename": "ValueError",
     "evalue": "operands could not be broadcast together with shapes (5,1) (3,5) ",
     "output_type": "error",
     "traceback": [
      "\u001b[1;31m---------------------------------------------------------------------------\u001b[0m",
      "\u001b[1;31mValueError\u001b[0m                                Traceback (most recent call last)",
      "Cell \u001b[1;32mIn[5], line 19\u001b[0m\n\u001b[0;32m     17\u001b[0m         \u001b[38;5;28mprint\u001b[39m(\u001b[38;5;124mf\u001b[39m\u001b[38;5;124m\"\u001b[39m\u001b[38;5;124mIteration \u001b[39m\u001b[38;5;132;01m{\u001b[39;00mj\u001b[38;5;132;01m}\u001b[39;00m\u001b[38;5;124m, Error: \u001b[39m\u001b[38;5;132;01m{\u001b[39;00mnp\u001b[38;5;241m.\u001b[39mmean(l1_error\u001b[38;5;241m*\u001b[39m\u001b[38;5;241m*\u001b[39m\u001b[38;5;241m2\u001b[39m)\u001b[38;5;132;01m:\u001b[39;00m\u001b[38;5;124m.10f\u001b[39m\u001b[38;5;132;01m}\u001b[39;00m\u001b[38;5;124m\"\u001b[39m)\n\u001b[0;32m     18\u001b[0m     \u001b[38;5;66;03m#syn0 += lr * np.dot(l0.T, l1_error)  #3*4 * 4*1  = 3*1\u001b[39;00m\n\u001b[1;32m---> 19\u001b[0m     syn0 \u001b[38;5;241m+\u001b[39m\u001b[38;5;241m=\u001b[39m \u001b[43mlr\u001b[49m\u001b[43m \u001b[49m\u001b[38;5;241;43m*\u001b[39;49m\u001b[43m \u001b[49m\u001b[43m(\u001b[49m\u001b[43my\u001b[49m\u001b[38;5;241;43m-\u001b[39;49m\u001b[43ml1\u001b[49m\u001b[43m)\u001b[49m\u001b[43m \u001b[49m\u001b[38;5;241;43m*\u001b[39;49m\u001b[43m \u001b[49m\u001b[43ml0\u001b[49m\u001b[38;5;241;43m.\u001b[39;49m\u001b[43mT\u001b[49m\n\u001b[0;32m     21\u001b[0m \u001b[38;5;28mprint\u001b[39m(syn0)\n\u001b[0;32m     22\u001b[0m \u001b[38;5;28mprint\u001b[39m(np\u001b[38;5;241m.\u001b[39mdot(X, syn0))\n",
      "\u001b[1;31mValueError\u001b[0m: operands could not be broadcast together with shapes (5,1) (3,5) "
     ]
    }
   ],
   "source": [
    "# 三元一次方程\n",
    "import numpy as np\n",
    "\n",
    "X = np.array([[0, 0, 1], [0, 1, 1], [1, 0, 1], [1, 1, 1], [1,1,0]])\n",
    "y = np.array([[0, 0, 1, 1, 1]]).T\n",
    "syn0 = 2 * np.random.random((3, 1)) - 1\n",
    "lr = 0.001\n",
    "for j in range(10000):\n",
    "    l0 = X\n",
    "    l1 = np.dot(l0, syn0)  # 4*3 3*1 =  4*1\n",
    "    l1_error = y - l1\n",
    "    # l1_error_loss = 1/2 * (y-l1)(y-l1)   令 z = (y-l1)(y-l1)\n",
    "    # ∂loss/ ∂x1 = ∂loss/∂z * ∂z/∂x1   =>  ∂loss/ ∂x1 = -1/2*2*(y-l1)* ((x1*l0[0]+x2*l0[1]+x23*l0[2])/∂x1)  =-(y-l1)* l0[0]  \n",
    "    # ∂loss/ ∂x2 = ∂loss/∂z * ∂z/∂x2   =>  ∂loss/ ∂x2 = -1/2*2*(y-l1)* ((x1*l0[0]+x2*l0[1]+x23*l0[2])/∂x2)  =-(y-l1)* l0[1]  \n",
    "    # ∂loss/ ∂x3 = ∂loss/∂z * ∂z/∂x3   =>  ∂loss/ ∂x3 = -1/2*2*(y-l1)* ((x1*l0[0]+x2*l0[1]+x23*l0[2])/∂x3)  =-(y-l1)* l0[2]  \n",
    "    if j % 100 == 0:\n",
    "        print(f\"Iteration {j}, Error: {np.mean(l1_error**2):.10f}\")\n",
    "    #syn0 += lr * np.dot(l0.T, l1_error)  #3*4 * 4*1  = 3*1\n",
    "    syn0 += lr * (y-l1) * l0.T\n",
    "\n",
    "print(syn0)\n",
    "print(np.dot(X, syn0))\n",
    "print(f\"Y = {syn0[0,0]: .5f} * X1 + {syn0[1,0]: .5f} * X2  + {syn0[2,0]: .5f} * X3 \")"
   ]
  },
  {
   "cell_type": "code",
   "execution_count": 4,
   "id": "350666ad-4637-43bc-959c-4a32a8bdbba0",
   "metadata": {},
   "outputs": [
    {
     "data": {
      "text/plain": [
       "0.0"
      ]
     },
     "execution_count": 4,
     "metadata": {},
     "output_type": "execute_result"
    }
   ],
   "source": []
  },
  {
   "cell_type": "code",
   "execution_count": null,
   "id": "0223d338-4b3d-4613-94e9-65d36df76ff8",
   "metadata": {},
   "outputs": [],
   "source": []
  }
 ],
 "metadata": {
  "kernelspec": {
   "display_name": "Python 3 (ipykernel)",
   "language": "python",
   "name": "python3"
  },
  "language_info": {
   "codemirror_mode": {
    "name": "ipython",
    "version": 3
   },
   "file_extension": ".py",
   "mimetype": "text/x-python",
   "name": "python",
   "nbconvert_exporter": "python",
   "pygments_lexer": "ipython3",
   "version": "3.10.14"
  }
 },
 "nbformat": 4,
 "nbformat_minor": 5
}
