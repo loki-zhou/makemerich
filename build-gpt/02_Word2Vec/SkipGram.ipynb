{
 "cells": [
  {
   "cell_type": "code",
   "execution_count": 1,
   "id": "3a3b7d86",
   "metadata": {},
   "outputs": [
    {
     "name": "stdout",
     "output_type": "stream",
     "text": [
      " 词汇表： ['Niuzong', 'is', 'Student', 'Xiaoxue', 'Teacher', 'Xiaobing', 'Mazong', 'Boss', 'Kage']\n",
      " 词汇到索引的字典： {'Niuzong': 0, 'is': 1, 'Student': 2, 'Xiaoxue': 3, 'Teacher': 4, 'Xiaobing': 5, 'Mazong': 6, 'Boss': 7, 'Kage': 8}\n",
      " 索引到词汇的字典： {0: 'Niuzong', 1: 'is', 2: 'Student', 3: 'Xiaoxue', 4: 'Teacher', 5: 'Xiaobing', 6: 'Mazong', 7: 'Boss', 8: 'Kage'}\n",
      " 词汇表大小： 9\n"
     ]
    }
   ],
   "source": [
    "# 定义一个句子列表，后面会用这些句子来训练 CBOW 和 Skip-Gram 模型\n",
    "sentences = [\"Kage is Teacher\", \"Mazong is Boss\", \"Niuzong is Boss\",\n",
    "             \"Xiaobing is Student\", \"Xiaoxue is Student\",]\n",
    "# 将所有句子连接在一起，然后用空格分隔成多个单词\n",
    "words = ' '.join(sentences).split()\n",
    "# 构建词汇表，去除重复的词\n",
    "word_list = list(set(words))\n",
    "# 创建一个字典，将每个词映射到一个唯一的索引\n",
    "word_to_idx = {word: idx for idx, word in enumerate(word_list)}\n",
    "# 创建一个字典，将每个索引映射到对应的词\n",
    "idx_to_word = {idx: word for idx, word in enumerate(word_list)}\n",
    "voc_size = len(word_list) # 计算词汇表的大小\n",
    "print(\" 词汇表：\", word_list) # 输出词汇表\n",
    "print(\" 词汇到索引的字典：\", word_to_idx) # 输出词汇到索引的字典\n",
    "print(\" 索引到词汇的字典：\", idx_to_word) # 输出索引到词汇的字典\n",
    "print(\" 词汇表大小：\", voc_size) # 输出词汇表大小"
   ]
  },
  {
   "cell_type": "code",
   "execution_count": 2,
   "id": "a78a1f96",
   "metadata": {},
   "outputs": [
    {
     "name": "stdout",
     "output_type": "stream",
     "text": [
      "Skip-Gram 数据样例（未编码）： [('is', 'Kage'), ('Teacher', 'Kage'), ('Kage', 'is')]\n"
     ]
    }
   ],
   "source": [
    "# 生成 Skip-Gram 训练数据\n",
    "def create_skipgram_dataset(sentences, window_size=2):\n",
    "    data = [] # 初始化数据\n",
    "    for sentence in sentences: # 遍历句子\n",
    "        sentence = sentence.split()  # 将句子分割成单词列表\n",
    "        for idx, word in enumerate(sentence):  # 遍历单词及其索引\n",
    "            # 获取相邻的单词，将当前单词前后各 N 个单词作为相邻单词\n",
    "            for neighbor in sentence[max(idx - window_size, 0): \n",
    "                        min(idx + window_size + 1, len(sentence))]:\n",
    "                if neighbor != word:  # 排除当前单词本身\n",
    "                    # 将相邻单词与当前单词作为一组训练数据\n",
    "                    data.append((neighbor, word))\n",
    "    return data\n",
    "# 使用函数创建 Skip-Gram 训练数据\n",
    "skipgram_data = create_skipgram_dataset(sentences)\n",
    "# 打印未编码的 Skip-Gram 数据样例（前 3 个）\n",
    "print(\"Skip-Gram 数据样例（未编码）：\", skipgram_data[:3])"
   ]
  },
  {
   "cell_type": "code",
   "execution_count": 3,
   "id": "74a8008a-713e-4b82-b6b2-dadc0ba4c0de",
   "metadata": {},
   "outputs": [
    {
     "data": {
      "text/plain": [
       "[('is', 'Kage'),\n",
       " ('Teacher', 'Kage'),\n",
       " ('Kage', 'is'),\n",
       " ('Teacher', 'is'),\n",
       " ('Kage', 'Teacher'),\n",
       " ('is', 'Teacher'),\n",
       " ('is', 'Mazong'),\n",
       " ('Boss', 'Mazong'),\n",
       " ('Mazong', 'is'),\n",
       " ('Boss', 'is'),\n",
       " ('Mazong', 'Boss'),\n",
       " ('is', 'Boss'),\n",
       " ('is', 'Niuzong'),\n",
       " ('Boss', 'Niuzong'),\n",
       " ('Niuzong', 'is'),\n",
       " ('Boss', 'is'),\n",
       " ('Niuzong', 'Boss'),\n",
       " ('is', 'Boss'),\n",
       " ('is', 'Xiaobing'),\n",
       " ('Student', 'Xiaobing'),\n",
       " ('Xiaobing', 'is'),\n",
       " ('Student', 'is'),\n",
       " ('Xiaobing', 'Student'),\n",
       " ('is', 'Student'),\n",
       " ('is', 'Xiaoxue'),\n",
       " ('Student', 'Xiaoxue'),\n",
       " ('Xiaoxue', 'is'),\n",
       " ('Student', 'is'),\n",
       " ('Xiaoxue', 'Student'),\n",
       " ('is', 'Student')]"
      ]
     },
     "execution_count": 3,
     "metadata": {},
     "output_type": "execute_result"
    }
   ],
   "source": [
    "skipgram_data"
   ]
  },
  {
   "cell_type": "code",
   "execution_count": 4,
   "id": "56fd0f7b",
   "metadata": {},
   "outputs": [
    {
     "name": "stdout",
     "output_type": "stream",
     "text": [
      "One-Hot 编码前的单词： Teacher\n",
      "One-Hot 编码后的向量： tensor([0., 0., 0., 0., 1., 0., 0., 0., 0.])\n",
      "Skip-Gram 数据样例（已编码）： [(tensor([0., 1., 0., 0., 0., 0., 0., 0., 0.]), 8), (tensor([0., 0., 0., 0., 1., 0., 0., 0., 0.]), 8), (tensor([0., 0., 0., 0., 0., 0., 0., 0., 1.]), 1)]\n"
     ]
    }
   ],
   "source": [
    "# 定义 One-Hot 编码函数\n",
    "import torch # 导入 torch 库\n",
    "def one_hot_encoding(word, word_to_idx):    \n",
    "    tensor = torch.zeros(len(word_to_idx)) # 创建一个长度与词汇表相同的全 0 张量  \n",
    "    tensor[word_to_idx[word]] = 1  # 将对应词的索引设为 1\n",
    "    return tensor  # 返回生成的 One-Hot 向量\n",
    "# 展示 One-Hot 编码前后的数据\n",
    "word_example = \"Teacher\"\n",
    "print(\"One-Hot 编码前的单词：\", word_example)\n",
    "print(\"One-Hot 编码后的向量：\", one_hot_encoding(word_example, word_to_idx))\n",
    "# 展示编码后的 Skip-Gram 训练数据样例\n",
    "print(\"Skip-Gram 数据样例（已编码）：\", [(one_hot_encoding(context, word_to_idx), \n",
    "          word_to_idx[target]) for context, target in skipgram_data[:3]])"
   ]
  },
  {
   "cell_type": "code",
   "execution_count": 5,
   "id": "fd3726b9",
   "metadata": {},
   "outputs": [
    {
     "name": "stdout",
     "output_type": "stream",
     "text": [
      "Skip-Gram 模型： SkipGram(\n",
      "  (input_to_hidden): Linear(in_features=9, out_features=2, bias=False)\n",
      "  (hidden_to_output): Linear(in_features=2, out_features=9, bias=False)\n",
      ")\n"
     ]
    }
   ],
   "source": [
    "# 定义 Skip-Gram 类\n",
    "import torch.nn as nn # 导入 neural network\n",
    "class SkipGram(nn.Module):\n",
    "    def __init__(self, voc_size, embedding_size):\n",
    "        super(SkipGram, self).__init__()\n",
    "        # 从词汇表大小到嵌入层大小（维度）的线性层（权重矩阵）\n",
    "        self.input_to_hidden = nn.Linear(voc_size, embedding_size, bias=False)  \n",
    "        # 从嵌入层大小（维度）到词汇表大小的线性层（权重矩阵）\n",
    "        self.hidden_to_output = nn.Linear(embedding_size, voc_size, bias=False)  \n",
    "    def forward(self, X): # 前向传播的方式，X 形状为 (batch_size, voc_size)      \n",
    "         # 通过隐藏层，hidden 形状为 (batch_size, embedding_size)\n",
    "            hidden = self.input_to_hidden(X) \n",
    "            # 通过输出层，output_layer 形状为 (batch_size, voc_size)\n",
    "            output = self.hidden_to_output(hidden)  \n",
    "            return output    \n",
    "embedding_size = 2 # 设定嵌入层的大小，这里选择 2 是为了方便展示\n",
    "skipgram_model = SkipGram(voc_size, embedding_size)  # 实例化 Skip-Gram 模型\n",
    "print(\"Skip-Gram 模型：\", skipgram_model)"
   ]
  },
  {
   "cell_type": "code",
   "execution_count": 6,
   "id": "faf48d7e-7baf-4172-a515-eecc2a84e13d",
   "metadata": {},
   "outputs": [
    {
     "data": {
      "text/plain": [
       "[('is', 'Kage'),\n",
       " ('Teacher', 'Kage'),\n",
       " ('Kage', 'is'),\n",
       " ('Teacher', 'is'),\n",
       " ('Kage', 'Teacher'),\n",
       " ('is', 'Teacher'),\n",
       " ('is', 'Mazong'),\n",
       " ('Boss', 'Mazong'),\n",
       " ('Mazong', 'is'),\n",
       " ('Boss', 'is'),\n",
       " ('Mazong', 'Boss'),\n",
       " ('is', 'Boss'),\n",
       " ('is', 'Niuzong'),\n",
       " ('Boss', 'Niuzong'),\n",
       " ('Niuzong', 'is'),\n",
       " ('Boss', 'is'),\n",
       " ('Niuzong', 'Boss'),\n",
       " ('is', 'Boss'),\n",
       " ('is', 'Xiaobing'),\n",
       " ('Student', 'Xiaobing'),\n",
       " ('Xiaobing', 'is'),\n",
       " ('Student', 'is'),\n",
       " ('Xiaobing', 'Student'),\n",
       " ('is', 'Student'),\n",
       " ('is', 'Xiaoxue'),\n",
       " ('Student', 'Xiaoxue'),\n",
       " ('Xiaoxue', 'is'),\n",
       " ('Student', 'is'),\n",
       " ('Xiaoxue', 'Student'),\n",
       " ('is', 'Student')]"
      ]
     },
     "execution_count": 6,
     "metadata": {},
     "output_type": "execute_result"
    }
   ],
   "source": [
    "skipgram_data"
   ]
  },
  {
   "cell_type": "code",
   "execution_count": 7,
   "id": "65cb5973",
   "metadata": {},
   "outputs": [
    {
     "name": "stdout",
     "output_type": "stream",
     "text": [
      "Epoch: 100, Loss: 2.1888596773147584\n",
      "Epoch: 200, Loss: 2.1634328365325928\n",
      "Epoch: 300, Loss: 2.135372281074524\n",
      "Epoch: 400, Loss: 2.1007268031438193\n",
      "Epoch: 500, Loss: 2.0565250714619956\n",
      "Epoch: 600, Loss: 2.0027838508288065\n",
      "Epoch: 700, Loss: 1.9458797971407573\n",
      "Epoch: 800, Loss: 1.897526627779007\n",
      "Epoch: 900, Loss: 1.8648615082105\n",
      "Epoch: 1000, Loss: 1.8449398696422576\n"
     ]
    },
    {
     "data": {
      "image/png": "[encoded data removed]",
      "text/plain": [
       "<Figure size 640x480 with 1 Axes>"
      ]
     },
     "metadata": {},
     "output_type": "display_data"
    }
   ],
   "source": [
    "# 训练 Skip-Gram 类\n",
    "learning_rate = 0.001 # 设置学习速率\n",
    "epochs = 1000 # 设置训练轮次\n",
    "criterion = nn.CrossEntropyLoss()  # 定义交叉熵损失函数\n",
    "import torch.optim as optim # 导入随机梯度下降优化器\n",
    "optimizer = optim.SGD(skipgram_model.parameters(), lr=learning_rate)  \n",
    "# 开始训练循环\n",
    "loss_values = []  # 用于存储每轮的平均损失值\n",
    "for epoch in range(epochs):\n",
    "    loss_sum = 0 # 初始化损失值\n",
    "    for context, target in skipgram_data:        \n",
    "        X = one_hot_encoding(target, word_to_idx).float().unsqueeze(0) # 将中心词转换为 One-Hot 向量  \n",
    "        y_true = torch.tensor([word_to_idx[context]], dtype=torch.long) # 将周围词转换为索引值 \n",
    "        y_pred = skipgram_model(X)  # 计算预测值\n",
    "        loss = criterion(y_pred, y_true)  # 计算损失\n",
    "        loss_sum += loss.item() # 累积损失\n",
    "        optimizer.zero_grad()  # 清空梯度\n",
    "        loss.backward()  # 反向传播\n",
    "        optimizer.step()  # 更新参数\n",
    "    if (epoch+1) % 100 == 0: # 输出每 100 轮的损失，并记录损失\n",
    "      print(f\"Epoch: {epoch+1}, Loss: {loss_sum/len(skipgram_data)}\")  \n",
    "      loss_values.append(loss_sum / len(skipgram_data))\n",
    "# 绘制训练损失曲线\n",
    "import matplotlib.pyplot as plt # 导入 matplotlib\n",
    "# 绘制二维词向量图\n",
    "plt.rcParams[\"font.family\"]=['SimHei'] # 用来设定字体样式\n",
    "plt.rcParams['font.sans-serif']=['SimHei'] # 用来设定无衬线字体样式\n",
    "plt.rcParams['axes.unicode_minus']=False # 用来正常显示负号\n",
    "plt.plot(range(1, epochs//100 + 1), loss_values) # 绘图\n",
    "plt.title(' 训练损失曲线 ') # 图题\n",
    "plt.xlabel(' 轮次 ') # X 轴 Label\n",
    "plt.ylabel(' 损失 ') # Y 轴 Label\n",
    "plt.show() # 显示图"
   ]
  },
  {
   "cell_type": "code",
   "execution_count": 8,
   "id": "b9ba6bcb",
   "metadata": {},
   "outputs": [
    {
     "name": "stdout",
     "output_type": "stream",
     "text": [
      "Skip-Gram 词嵌入：\n",
      "Niuzong: [-0.14392455 -1.021563  ]\n",
      "is: [-0.24207997  0.02112402]\n",
      "Student: [ 0.4590254 -0.83021  ]\n",
      "Xiaoxue: [-0.07230064 -1.1234951 ]\n",
      "Teacher: [-0.00632186 -0.54899615]\n",
      "Xiaobing: [ 0.40523914 -0.9416331 ]\n",
      "Mazong: [-0.02006531 -1.0261315 ]\n",
      "Boss: [ 0.3504574  -0.40416706]\n",
      "Kage: [-0.21469659 -0.4337088 ]\n"
     ]
    }
   ],
   "source": [
    "# 输出 Skip-Gram 习得的词嵌入\n",
    "print(\"Skip-Gram 词嵌入：\")\n",
    "for word, idx in word_to_idx.items(): # 输出每个词的嵌入向量\n",
    " print(f\"{word}: {skipgram_model.input_to_hidden.weight[:,idx].detach().numpy()}\")"
   ]
  },
  {
   "cell_type": "code",
   "execution_count": 9,
   "id": "e58f6b82",
   "metadata": {},
   "outputs": [
    {
     "data": {
      "image/png": "[encoded data removed]",
      "text/plain": [
       "<Figure size 640x480 with 1 Axes>"
      ]
     },
     "metadata": {},
     "output_type": "display_data"
    }
   ],
   "source": [
    "fig, ax = plt.subplots() \n",
    "for word, idx in word_to_idx.items():\n",
    "    # 获取每个单词的嵌入向量\n",
    "    vec = skipgram_model.input_to_hidden.weight[:,idx].detach().numpy() \n",
    "    ax.scatter(vec[0], vec[1]) # 在图中绘制嵌入向量的点\n",
    "    ax.annotate(word, (vec[0], vec[1]), fontsize=12) # 点旁添加单词标签\n",
    "plt.title(' 二维词嵌入 ') # 图题\n",
    "plt.xlabel(' 向量维度 1') # X 轴 Label\n",
    "plt.ylabel(' 向量维度 2') # Y 轴 Label\n",
    "plt.show() # 显示图"
   ]
  },
  {
   "cell_type": "code",
   "execution_count": null,
   "id": "8a329336",
   "metadata": {},
   "outputs": [],
   "source": []
  }
 ],
 "metadata": {
  "kernelspec": {
   "display_name": "Python 3 (ipykernel)",
   "language": "python",
   "name": "python3"
  },
  "language_info": {
   "codemirror_mode": {
    "name": "ipython",
    "version": 3
   },
   "file_extension": ".py",
   "mimetype": "text/x-python",
   "name": "python",
   "nbconvert_exporter": "python",
   "pygments_lexer": "ipython3",
   "version": "3.11.10"
  }
 },
 "nbformat": 4,
 "nbformat_minor": 5
}
