{
 "cells": [
  {
   "cell_type": "code",
   "execution_count": 1,
   "id": "8d6f38b0-ec9c-4b26-8d85-7949d328d2ce",
   "metadata": {},
   "outputs": [],
   "source": [
    "import torch\n",
    "\n",
    "# 创建两个三维张量，分别代表一批矩阵\n",
    "batch1 = torch.randn(3, 2, 4) ` # 3个样本，每个样本有2x4的矩阵\n",
    "batch2 = torch.randn(3, 4, 3)  # 3个样本，每个样本有4x3的矩阵"
   ]
  },
  {
   "cell_type": "code",
   "execution_count": 2,
   "id": "de8e85dd-5fa9-4e70-b35f-6e4d1e1d3d09",
   "metadata": {},
   "outputs": [
    {
     "data": {
      "text/plain": [
       "(tensor([[[-0.5058, -1.7764,  0.8482, -0.4564],\n",
       "          [ 0.4855, -1.3741,  0.3162,  1.4208]],\n",
       " \n",
       "         [[ 0.5108,  1.2719, -0.2239, -0.9519],\n",
       "          [ 1.3478,  0.1403, -0.7451, -0.1817]],\n",
       " \n",
       "         [[ 1.4621,  0.5548, -1.7351, -1.1533],\n",
       "          [ 0.5527, -0.5303,  0.7634, -1.0676]]]),\n",
       " tensor([[[ 1.0228, -0.4964, -0.6718],\n",
       "          [ 1.0363,  0.6213,  0.7759],\n",
       "          [ 1.1077, -0.6238,  0.4617],\n",
       "          [-1.7098, -0.5387,  0.4108]],\n",
       " \n",
       "         [[ 1.6637,  0.9265, -0.1406],\n",
       "          [-0.3899,  0.8584,  0.5518],\n",
       "          [ 0.3573, -0.0803,  0.8025],\n",
       "          [-0.8953,  0.5448, -0.9197]],\n",
       " \n",
       "         [[-0.3083, -1.6702, -1.2177],\n",
       "          [ 2.4653,  0.4686, -1.8077],\n",
       "          [ 0.0948, -0.9383,  0.1560],\n",
       "          [-0.2811,  1.1620, -0.0716]]]))"
      ]
     },
     "execution_count": 2,
     "metadata": {},
     "output_type": "execute_result"
    }
   ],
   "source": [
    "batch1,batch2"
   ]
  },
  {
   "cell_type": "code",
   "execution_count": 4,
   "id": "f803b22f-bb09-4063-aae3-bfbf723305db",
   "metadata": {},
   "outputs": [
    {
     "data": {
      "text/plain": [
       "(tensor([[[-0.6383, -1.1358, -0.8343],\n",
       "          [-3.0063, -2.0574, -0.6626]],\n",
       " \n",
       "         [[ 1.1260,  1.0644,  1.3259],\n",
       "          [ 2.0840,  1.3300, -0.5428]],\n",
       " \n",
       "         [[ 1.0767, -1.8941, -2.9712],\n",
       "          [-1.1054, -3.1286,  0.4812]]]),\n",
       " torch.Size([3, 2, 3]))"
      ]
     },
     "execution_count": 4,
     "metadata": {},
     "output_type": "execute_result"
    }
   ],
   "source": [
    "a = batch1@batch2\n",
    "a , a.shape"
   ]
  }
 ],
 "metadata": {
  "kernelspec": {
   "display_name": "Python 3 (ipykernel)",
   "language": "python",
   "name": "python3"
  },
  "language_info": {
   "codemirror_mode": {
    "name": "ipython",
    "version": 3
   },
   "file_extension": ".py",
   "mimetype": "text/x-python",
   "name": "python",
   "nbconvert_exporter": "python",
   "pygments_lexer": "ipython3",
   "version": "3.11.10"
  }
 },
 "nbformat": 4,
 "nbformat_minor": 5
}
