{
 "cells": [
  {
   "cell_type": "code",
   "id": "initial_id",
   "metadata": {
    "collapsed": true,
    "ExecuteTime": {
     "end_time": "2024-08-15T15:16:14.811736Z",
     "start_time": "2024-08-15T15:16:14.645720Z"
    }
   },
   "source": "import numpy as np",
   "outputs": [],
   "execution_count": 1
  },
  {
   "metadata": {
    "ExecuteTime": {
     "end_time": "2024-08-15T15:16:32.823610Z",
     "start_time": "2024-08-15T15:16:32.804612Z"
    }
   },
   "cell_type": "code",
   "source": [
    "x = np.array([0, 1])\n",
    "x"
   ],
   "id": "8cde777a29138f1b",
   "outputs": [
    {
     "data": {
      "text/plain": [
       "array([0, 1])"
      ]
     },
     "execution_count": 2,
     "metadata": {},
     "output_type": "execute_result"
    }
   ],
   "execution_count": 2
  },
  {
   "metadata": {
    "ExecuteTime": {
     "end_time": "2024-08-15T15:16:53.457372Z",
     "start_time": "2024-08-15T15:16:53.443369Z"
    }
   },
   "cell_type": "code",
   "source": [
    "w = np.array([0.5, 0.5])\n",
    "w"
   ],
   "id": "f9d917c1eb5916fe",
   "outputs": [
    {
     "data": {
      "text/plain": [
       "array([0.5, 0.5])"
      ]
     },
     "execution_count": 3,
     "metadata": {},
     "output_type": "execute_result"
    }
   ],
   "execution_count": 3
  },
  {
   "metadata": {
    "ExecuteTime": {
     "end_time": "2024-08-15T15:17:07.828519Z",
     "start_time": "2024-08-15T15:17:07.811521Z"
    }
   },
   "cell_type": "code",
   "source": "b = -0.7",
   "id": "75bb8533e74d9397",
   "outputs": [],
   "execution_count": 4
  },
  {
   "metadata": {
    "ExecuteTime": {
     "end_time": "2024-08-15T15:17:16.563494Z",
     "start_time": "2024-08-15T15:17:16.549489Z"
    }
   },
   "cell_type": "code",
   "source": "w*x",
   "id": "cc886c1298aa51f5",
   "outputs": [
    {
     "data": {
      "text/plain": [
       "array([0. , 0.5])"
      ]
     },
     "execution_count": 5,
     "metadata": {},
     "output_type": "execute_result"
    }
   ],
   "execution_count": 5
  },
  {
   "metadata": {
    "ExecuteTime": {
     "end_time": "2024-08-15T15:17:33.546013Z",
     "start_time": "2024-08-15T15:17:33.525014Z"
    }
   },
   "cell_type": "code",
   "source": "np.dot(w,x)",
   "id": "fbba85c8121b021f",
   "outputs": [
    {
     "data": {
      "text/plain": [
       "0.5"
      ]
     },
     "execution_count": 6,
     "metadata": {},
     "output_type": "execute_result"
    }
   ],
   "execution_count": 6
  },
  {
   "metadata": {
    "ExecuteTime": {
     "end_time": "2024-08-15T15:20:15.013724Z",
     "start_time": "2024-08-15T15:20:15.000726Z"
    }
   },
   "cell_type": "code",
   "source": "np.dot(w,x) + b",
   "id": "d7680bf216be43b5",
   "outputs": [
    {
     "data": {
      "text/plain": [
       "-0.19999999999999996"
      ]
     },
     "execution_count": 7,
     "metadata": {},
     "output_type": "execute_result"
    }
   ],
   "execution_count": 7
  },
  {
   "metadata": {},
   "cell_type": "code",
   "outputs": [],
   "execution_count": null,
   "source": "",
   "id": "5fd57d0e5a543abc"
  }
 ],
 "metadata": {
  "kernelspec": {
   "display_name": "Python 3",
   "language": "python",
   "name": "python3"
  },
  "language_info": {
   "codemirror_mode": {
    "name": "ipython",
    "version": 2
   },
   "file_extension": ".py",
   "mimetype": "text/x-python",
   "name": "python",
   "nbconvert_exporter": "python",
   "pygments_lexer": "ipython2",
   "version": "2.7.6"
  }
 },
 "nbformat": 4,
 "nbformat_minor": 5
}
