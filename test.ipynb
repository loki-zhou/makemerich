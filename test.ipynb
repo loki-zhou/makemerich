{
 "cells": [
  {
   "cell_type": "code",
   "execution_count": 1,
   "metadata": {
    "collapsed": true,
    "jupyter": {
     "outputs_hidden": true
    }
   },
   "outputs": [
    {
     "name": "stdout",
     "output_type": "stream",
     "text": [
      "'{\"my-suggest\":{\"prefix\":\"爱\",\"completion\":{\"contexts\":{\"deviceId\":[{\"context\":\"1\"}],\"status\":[{\"boost\":10,\"context\":\"1\"}]},\"field\":\"suggest\",\"size\":30,\"skip_duplicates\":true}}}'\n"
     ]
    }
   ],
   "source": [
    "from pprint import  pprint\n",
    "pprint(\n",
    "  '{\"my-suggest\":{\"prefix\":\"爱\",\"completion\":{\"contexts\":{\"deviceId\":[{\"context\":\"1\"}],\"status\":[{\"boost\":10,\"context\":\"1\"}]},\"field\":\"suggest\",\"size\":30,\"skip_duplicates\":true}}}'\n",
    ")\n"
   ]
  },
  {
   "cell_type": "code",
   "execution_count": null,
   "metadata": {
    "collapsed": false,
    "jupyter": {
     "outputs_hidden": false
    }
   },
   "outputs": [],
   "source": [
    "from urllib.parse import quote\n",
    "quote()"
   ]
  },
  {
   "cell_type": "code",
   "execution_count": 2,
   "metadata": {},
   "outputs": [],
   "source": [
    "import numpy as np"
   ]
  },
  {
   "cell_type": "code",
   "execution_count": 7,
   "metadata": {},
   "outputs": [
    {
     "data": {
      "text/plain": [
       "np.float64(252.6519888441586)"
      ]
     },
     "execution_count": 7,
     "metadata": {},
     "output_type": "execute_result"
    }
   ],
   "source": [
    "np.log(1/2)/np.log(364/365)"
   ]
  },
  {
   "cell_type": "code",
   "execution_count": 10,
   "metadata": {},
   "outputs": [
    {
     "data": {
      "text/plain": [
       "[1.0,\n",
       " 0.9972602739726028,\n",
       " 0.9945205479452055,\n",
       " 0.9917808219178083,\n",
       " 0.989041095890411,\n",
       " 0.9863013698630136,\n",
       " 0.9835616438356164,\n",
       " 0.9808219178082191,\n",
       " 0.9780821917808219,\n",
       " 0.9753424657534246]"
      ]
     },
     "execution_count": 10,
     "metadata": {},
     "output_type": "execute_result"
    }
   ],
   "source": [
    "days_in_year = 365\n",
    "# 计算所有生日都不同的概率\n",
    "prob_different = np.prod([(days_in_year - i) / days_in_year for i in range(10)])\n",
    "[(days_in_year - i) / days_in_year for i in range(10)]"
   ]
  },
  {
   "cell_type": "code",
   "execution_count": 15,
   "metadata": {},
   "outputs": [
    {
     "name": "stdout",
     "output_type": "stream",
     "text": [
      "通过Monte Carlo模拟得出，当有 23 个人时，至少两人生日相同的概率约为: 0.5062\n"
     ]
    }
   ],
   "source": [
    "def monte_carlo_simulation(n_people, simulations=10000):\n",
    "    days_in_year = 365\n",
    "    shared_birthday_count = 0\n",
    "    \n",
    "    for _ in range(simulations):\n",
    "        # 随机生成n个人的生日\n",
    "        birthdays = np.random.randint(0, days_in_year, n_people)\n",
    "        # 检查是否有相同的生日\n",
    "        if len(birthdays) != len(np.unique(birthdays)):\n",
    "            shared_birthday_count += 1\n",
    "    \n",
    "    # 计算至少有两人生日相同的概率\n",
    "    return shared_birthday_count / simulations\n",
    "\n",
    "# 进行模拟\n",
    "n_people = 23\n",
    "probability = monte_carlo_simulation(n_people)\n",
    "print(f\"通过Monte Carlo模拟得出，当有 {n_people} 个人时，至少两人生日相同的概率约为: {probability:.4f}\")\n"
   ]
  },
  {
   "cell_type": "code",
   "execution_count": 35,
   "metadata": {},
   "outputs": [
    {
     "data": {
      "text/plain": [
       "array([1, 0, 1], dtype=int32)"
      ]
     },
     "execution_count": 35,
     "metadata": {},
     "output_type": "execute_result"
    }
   ],
   "source": [
    "np.random.randint(0,2, 3)"
   ]
  },
  {
   "cell_type": "markdown",
   "metadata": {},
   "source": [
    "假如一位考古学家发现一个小宝藏，里面有20枚古硬币。他注意到其中12枚是罗马币，8枚是希腊币。他还注意到罗马币中有6枚银币，希腊币中有3枚银币，余下的都是青铜币。那么从这个宝藏里随机选中一枚罗马币或银币的概率是多少？\n",
    "希腊铜币的是 5枚,  只要不取到希腊铜币就可以了.   \n"
   ]
  },
  {
   "cell_type": "code",
   "execution_count": 44,
   "metadata": {},
   "outputs": [
    {
     "name": "stdout",
     "output_type": "stream",
     "text": [
      "0.75\n",
      "0.75\n",
      "0.75\n"
     ]
    }
   ],
   "source": [
    "# 不取到 希腊铜币\n",
    "print(1 - 5/20)\n",
    "\n",
    "# 取到罗马币 + 取到银币 - 罗马币交银币\n",
    "\n",
    "print(12/20 + 9/20 - 6/20)\n",
    "\n",
    "\n",
    "print(12/20 + 9/20 - 12/20*6/12)"
   ]
  },
  {
   "cell_type": "code",
   "execution_count": 42,
   "metadata": {},
   "outputs": [
    {
     "data": {
      "text/plain": [
       "0.27"
      ]
     },
     "execution_count": 42,
     "metadata": {},
     "output_type": "execute_result"
    }
   ],
   "source": [
    "9/20 * 12/20"
   ]
  },
  {
   "cell_type": "code",
   "execution_count": 5,
   "metadata": {},
   "outputs": [
    {
     "data": {
      "text/plain": [
       "0.0078125"
      ]
     },
     "execution_count": 5,
     "metadata": {},
     "output_type": "execute_result"
    }
   ],
   "source": [
    "0.5**7"
   ]
  },
  {
   "cell_type": "code",
   "execution_count": 8,
   "metadata": {},
   "outputs": [
    {
     "data": {
      "text/plain": [
       "0.9375"
      ]
     },
     "execution_count": 8,
     "metadata": {},
     "output_type": "execute_result"
    }
   ],
   "source": [
    "1-0.5**4"
   ]
  },
  {
   "cell_type": "code",
   "execution_count": 4,
   "metadata": {},
   "outputs": [
    {
     "data": {
      "image/png": "[encoded data removed]",
      "text/plain": [
       "<Figure size 640x480 with 1 Axes>"
      ]
     },
     "metadata": {},
     "output_type": "display_data"
    }
   ],
   "source": [
    "import numpy as np\n",
    "import matplotlib.pyplot as plt\n",
    "\n",
    "# 设置试验次数和每次试验的样本数\n",
    "n_trials = 1000  # 试验次数\n",
    "n_samples = 1000   # 每次试验的样本数\n",
    "p = 0.5          # 硬币正面朝上的概率\n",
    "\n",
    "# 生成伯努利试验的结果\n",
    "results = np.random.binomial(n_samples, p, n_trials)\n",
    "\n",
    "# 统计结果的分布\n",
    "unique, counts = np.unique(results, return_counts=True)\n",
    "\n",
    "# 绘制结果图\n",
    "plt.bar(unique, counts, tick_label=unique)\n",
    "plt.xlabel('Number of Heads')\n",
    "plt.ylabel('Frequency')\n",
    "plt.title('Bernoulli Trials: Coin Flips')\n",
    "plt.show()"
   ]
  }
 ],
 "metadata": {
  "kernelspec": {
   "display_name": "Python 3 (ipykernel)",
   "language": "python",
   "name": "python3"
  },
  "language_info": {
   "codemirror_mode": {
    "name": "ipython",
    "version": 3
   },
   "file_extension": ".py",
   "mimetype": "text/x-python",
   "name": "python",
   "nbconvert_exporter": "python",
   "pygments_lexer": "ipython3",
   "version": "3.11.10"
  }
 },
 "nbformat": 4,
 "nbformat_minor": 4
}
