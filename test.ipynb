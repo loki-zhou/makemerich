{
 "cells": [
  {
   "cell_type": "code",
   "execution_count": 1,
   "metadata": {
    "collapsed": true
   },
   "outputs": [
    {
     "name": "stdout",
     "output_type": "stream",
     "text": [
      "'{\"my-suggest\":{\"prefix\":\"爱\",\"completion\":{\"contexts\":{\"deviceId\":[{\"context\":\"1\"}],\"status\":[{\"boost\":10,\"context\":\"1\"}]},\"field\":\"suggest\",\"size\":30,\"skip_duplicates\":true}}}'\n"
     ]
    }
   ],
   "source": [
    "from pprint import  pprint\n",
    "pprint(\n",
    "  '{\"my-suggest\":{\"prefix\":\"爱\",\"completion\":{\"contexts\":{\"deviceId\":[{\"context\":\"1\"}],\"status\":[{\"boost\":10,\"context\":\"1\"}]},\"field\":\"suggest\",\"size\":30,\"skip_duplicates\":true}}}'\n",
    ")\n"
   ]
  },
  {
   "cell_type": "code",
   "execution_count": null,
   "outputs": [],
   "source": [
    "from urllib.parse import quote\n",
    "quote()"
   ],
   "metadata": {
    "collapsed": false
   }
  }
 ],
 "metadata": {
  "kernelspec": {
   "display_name": "Python 3",
   "language": "python",
   "name": "python3"
  },
  "language_info": {
   "codemirror_mode": {
    "name": "ipython",
    "version": 2
   },
   "file_extension": ".py",
   "mimetype": "text/x-python",
   "name": "python",
   "nbconvert_exporter": "python",
   "pygments_lexer": "ipython2",
   "version": "2.7.6"
  }
 },
 "nbformat": 4,
 "nbformat_minor": 0
}
